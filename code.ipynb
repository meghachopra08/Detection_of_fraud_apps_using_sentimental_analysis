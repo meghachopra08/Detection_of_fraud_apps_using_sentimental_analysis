{
  "cells": [
    {
      "cell_type": "markdown",
      "metadata": {
        "id": "view-in-github",
        "colab_type": "text"
      },
      "source": [
        "<a href=\"https://colab.research.google.com/github/meghachopra08/Detection_of_fraud_apps_using_sentimental_analysis/blob/main/code.ipynb\" target=\"_parent\"><img src=\"https://colab.research.google.com/assets/colab-badge.svg\" alt=\"Open In Colab\"/></a>"
      ]
    },
    {
      "cell_type": "code",
      "execution_count": null,
      "metadata": {
        "colab": {
          "base_uri": "https://localhost:8080/"
        },
        "id": "It-iIk8xdzTG",
        "outputId": "ca5915a4-ccc4-4175-be87-ae470f9b62ba"
      },
      "outputs": [
        {
          "output_type": "stream",
          "name": "stdout",
          "text": [
            "Requirement already satisfied: google_play_scraper in /usr/local/lib/python3.7/dist-packages (1.0.5)\n"
          ]
        }
      ],
      "source": [
        "!pip install google_play_scraper\n",
        "from google_play_scraper import Sort, reviews, app\n",
        "import re\n",
        "import nltk\n",
        "from nltk.tokenize import word_tokenize\n",
        "import csv\n",
        "\n",
        "\n",
        "links=[\n",
        "    \"https://play.google.com/store/apps/details?id=com.oyo.consumer\",\n",
        "    \"https://play.google.com/store/apps/details?id=com.whatsapp\",\n",
        "    \"https://play.google.com/store/apps/details?id=com.truecaller\",\n",
        "    \"https://play.google.com/store/apps/details?id=com.facebook.katana\",\n",
        "    \"https://play.google.com/store/apps/details?id=com.facebook.orca\",\n",
        "    \"https://play.google.com/store/apps/details?id=com.mxtech.videoplayer.ad\",\n",
        "    \"https://play.google.com/store/apps/details?id=com.zinn.currentmobiletrackerlocation\",\n",
        "    \"https://play.google.com/store/apps/details?id=com.amazontracking.live.vehicletrack\",\n",
        "    \"https://play.google.com/store/apps/details?id=com.icici.videobanking\",\n",
        "    \"https://play.google.com/store/apps/details?id=com.nikon.snapbridge.sb360170\",\n",
        "    \"https://play.google.com/store/apps/details?id=com.ergames.cctvhackersimulator\",\n",
        "    \"https://play.google.com/store/apps/details?id=com.eterno.shortvideos\",\n",
        "    \"https://play.google.com/store/apps/details?id=in.mohalla.video\",\n",
        "    \"https://play.google.com/store/apps/details?id=com.snapchat.android\",\n",
        "    \"https://play.google.com/store/apps/details?id=com.jio.jioplay.tv\",\n",
        "    \"https://play.google.com/store/apps/details?id=com.instagram.android\",\n",
        "    \"https://play.google.com/store/apps/details?id=com.next.innovation.takatak\",\n",
        "    \"https://play.google.com/store/apps/details?id=in.startv.hotstar\",\n",
        "    \"https://play.google.com/store/apps/details?id=com.jio.media.jiobeats\",\n",
        "    \"https://play.google.com/store/apps/details?id=com.google.android.apps.nbu.paisa.user\",\n",
        "    \"https://play.google.com/store/apps/details?id=com.slashpong\",\n",
        "    \"https://play.google.com/store/apps/details?id=com.kathleenOswald.solitaireGooglePlay\",\n",
        "    \"https://play.google.com/store/apps/details?id=com.spcomes.zombiehive\",\n",
        "    \"https://play.google.com/store/apps/details?id=com.rooom.app\",\n",
        "    \"https://play.google.com/store/apps/details?id=com.google.ar.core\",\n",
        " \n",
        "\"https://play.google.com/store/apps/details?id=com.flipkart.android\",\n",
        "    \"https://play.google.com/store/apps/details?id=org.telegram.messenger\",\n",
        "       \"https://play.google.com/store/apps/details?id=com.microsoft.teams\",\n",
        "       \"https://play.google.com/store/apps/details?id=com.booking\",\n",
        "       \"https://play.google.com/store/apps/details?id=com.trivago\",\n",
        "    \"https://play.google.com/store/apps/details?id=com.supercell.clashofclans\",\n",
        "    \"https://play.google.com/store/apps/details?id=com.canva.editor\",\n",
        "    \"https://play.google.com/store/apps/details?id=com.delgeo.desygner\",\n",
        "    \"https://play.google.com/store/apps/details?id=com.meesho.supply\",\n",
        "    \"https://play.google.com/store/apps/details?id=com.next.innovation.takatak.lite\",\n",
        "    \"https://play.google.com/store/apps/details?id=com.sharekaro.app\",\n",
        "    \"https://play.google.com/store/apps/details?id=in.mohalla.sharechat\",\n",
        "    \"https://play.google.com/store/apps/details?id=com.arcsys.tictactoe\",\n",
        "    \"https://play.google.com/store/apps/details?id=com.happyadda.jalebi\",\n",
        "    \"https://play.google.com/store/apps/details?id=com.tobiasornberg.knightgame\",\n",
        "    \"https://play.google.com/store/apps/details?id=com.fingersoft.benjibananas\",\n",
        "    \n",
        "]"
      ]
    },
    {
      "cell_type": "code",
      "execution_count": null,
      "metadata": {
        "id": "55UmaKzMZ4IN"
      },
      "outputs": [],
      "source": [
        "app_reviews=[]\n",
        "for link in links:\n",
        "    findId=link.find('id=')\n",
        "\n",
        "    url=link[findId+3:]\n",
        "    for sort_order in [Sort.MOST_RELEVANT, Sort.NEWEST]:\n",
        "        rvs, _ = reviews(\n",
        "            url,\n",
        "            lang='en',\n",
        "            country='us',\n",
        "            sort=sort_order,\n",
        "            count= 200\n",
        "          )\n",
        "        for r in rvs:\n",
        "            r['sortOrder'] = 'most_relevant' if sort_order == Sort.MOST_RELEVANT else 'newest'\n",
        "            r['appId'] = url\n",
        "        app_reviews.extend(rvs)"
      ]
    },
    {
      "cell_type": "code",
      "execution_count": null,
      "metadata": {
        "colab": {
          "base_uri": "https://localhost:8080/"
        },
        "id": "ygPdkYK8awsL",
        "outputId": "55c42e56-fd34-405b-c5ca-fbde10654dd4"
      },
      "outputs": [
        {
          "output_type": "execute_result",
          "data": {
            "text/plain": [
              "41"
            ]
          },
          "metadata": {},
          "execution_count": 4
        }
      ],
      "source": [
        "len(links)"
      ]
    },
    {
      "cell_type": "code",
      "execution_count": null,
      "metadata": {
        "colab": {
          "base_uri": "https://localhost:8080/"
        },
        "id": "3P1g2jeWa5RO",
        "outputId": "71ed868b-a5eb-4206-fcb1-e7517dd519e3"
      },
      "outputs": [
        {
          "output_type": "execute_result",
          "data": {
            "text/plain": [
              "15452"
            ]
          },
          "metadata": {},
          "execution_count": 5
        }
      ],
      "source": [
        "len(app_reviews)"
      ]
    },
    {
      "cell_type": "code",
      "execution_count": null,
      "metadata": {
        "colab": {
          "base_uri": "https://localhost:8080/"
        },
        "id": "ERI36kffa9b2",
        "outputId": "e0791833-4b1a-400c-96b3-74b737444d0b"
      },
      "outputs": [
        {
          "output_type": "stream",
          "name": "stdout",
          "text": [
            "[nltk_data] Downloading package punkt to /root/nltk_data...\n",
            "[nltk_data]   Package punkt is already up-to-date!\n",
            "0\n",
            "1\n"
          ]
        }
      ],
      "source": [
        "import nltk\n",
        "nltk.download('punkt')\n",
        "low=[]\n",
        "positive = open(\"/content/positive (1).txt\", \"r\",encoding='utf-8')\n",
        "negative = open(\"/content/negative (1).txt\", \"r\",encoding='utf-8')\n",
        "pos=positive.read().split()\n",
        "neg=negative.read().split()\n",
        "for i in range(len(app_reviews)):\n",
        "    n=0\n",
        "    p=0\n",
        "    cleandata = re.sub('[^A-Za-z0-9]+',' ',app_reviews[i]['content'])\n",
        "    text=[]\n",
        "    if(cleandata.lower()!=\" \"):\n",
        "        text.append(cleandata.lower())\n",
        "        total=0\n",
        "        \n",
        "        \n",
        "        wordstoken=word_tokenize(cleandata.lower())\n",
        "        sentences=[]\n",
        "        for w in wordstoken:\n",
        "            sentences.append(w)\n",
        "        prev=\"\"\n",
        "        for word in sentences:\n",
        "            if word in pos:\n",
        "                if prev == \"not\":\n",
        "                    n=n+1\n",
        "                else:\n",
        "                    p=p+1\n",
        "            if word in neg:\n",
        "                if prev == \"not\":\n",
        "                    p=p+1\n",
        "                else:\n",
        "                    n=n+1\n",
        "            prev=word\n",
        "            \n",
        "        if(p>=n):\n",
        "            text.append(1)\n",
        "        else:\n",
        "            text.append(0)    \n",
        "            \n",
        "        low.append(text)        \n",
        "print(p)\n",
        "print(n)"
      ]
    },
    {
      "cell_type": "code",
      "source": [
        "from google.colab import drive\n",
        "drive.mount('/content/drive')"
      ],
      "metadata": {
        "colab": {
          "base_uri": "https://localhost:8080/"
        },
        "id": "y0-i-mvubqbt",
        "outputId": "12a85711-93b8-4b4a-edbe-105aee85b270"
      },
      "execution_count": null,
      "outputs": [
        {
          "output_type": "stream",
          "name": "stdout",
          "text": [
            "Mounted at /content/drive\n"
          ]
        }
      ]
    },
    {
      "cell_type": "code",
      "execution_count": null,
      "metadata": {
        "id": "lCqP7EbGScY5"
      },
      "outputs": [],
      "source": [
        "with open(\"dataset1 (1) (1).csv\", \"w\") as f:\n",
        "    writer = csv.writer(f)\n",
        "    writer.writerows(low)"
      ]
    },
    {
      "cell_type": "code",
      "execution_count": null,
      "metadata": {
        "id": "o4zmawYNSpky"
      },
      "outputs": [],
      "source": [
        "import pandas as pd\n",
        "df = pd.DataFrame(low, columns =['Content', 'Class']) "
      ]
    },
    {
      "cell_type": "code",
      "execution_count": null,
      "metadata": {
        "colab": {
          "base_uri": "https://localhost:8080/",
          "height": 143
        },
        "id": "IbeeM01uSyCw",
        "outputId": "daf7fc50-3857-4bc5-a569-df5c7f8043d9"
      },
      "outputs": [
        {
          "output_type": "execute_result",
          "data": {
            "text/plain": [
              "       Content\n",
              "Class         \n",
              "0         3937\n",
              "1        11214"
            ],
            "text/html": [
              "\n",
              "  <div id=\"df-e78dcf12-3982-4fa6-af3c-2df7459f545b\">\n",
              "    <div class=\"colab-df-container\">\n",
              "      <div>\n",
              "<style scoped>\n",
              "    .dataframe tbody tr th:only-of-type {\n",
              "        vertical-align: middle;\n",
              "    }\n",
              "\n",
              "    .dataframe tbody tr th {\n",
              "        vertical-align: top;\n",
              "    }\n",
              "\n",
              "    .dataframe thead th {\n",
              "        text-align: right;\n",
              "    }\n",
              "</style>\n",
              "<table border=\"1\" class=\"dataframe\">\n",
              "  <thead>\n",
              "    <tr style=\"text-align: right;\">\n",
              "      <th></th>\n",
              "      <th>Content</th>\n",
              "    </tr>\n",
              "    <tr>\n",
              "      <th>Class</th>\n",
              "      <th></th>\n",
              "    </tr>\n",
              "  </thead>\n",
              "  <tbody>\n",
              "    <tr>\n",
              "      <th>0</th>\n",
              "      <td>3937</td>\n",
              "    </tr>\n",
              "    <tr>\n",
              "      <th>1</th>\n",
              "      <td>11214</td>\n",
              "    </tr>\n",
              "  </tbody>\n",
              "</table>\n",
              "</div>\n",
              "      <button class=\"colab-df-convert\" onclick=\"convertToInteractive('df-e78dcf12-3982-4fa6-af3c-2df7459f545b')\"\n",
              "              title=\"Convert this dataframe to an interactive table.\"\n",
              "              style=\"display:none;\">\n",
              "        \n",
              "  <svg xmlns=\"http://www.w3.org/2000/svg\" height=\"24px\"viewBox=\"0 0 24 24\"\n",
              "       width=\"24px\">\n",
              "    <path d=\"M0 0h24v24H0V0z\" fill=\"none\"/>\n",
              "    <path d=\"M18.56 5.44l.94 2.06.94-2.06 2.06-.94-2.06-.94-.94-2.06-.94 2.06-2.06.94zm-11 1L8.5 8.5l.94-2.06 2.06-.94-2.06-.94L8.5 2.5l-.94 2.06-2.06.94zm10 10l.94 2.06.94-2.06 2.06-.94-2.06-.94-.94-2.06-.94 2.06-2.06.94z\"/><path d=\"M17.41 7.96l-1.37-1.37c-.4-.4-.92-.59-1.43-.59-.52 0-1.04.2-1.43.59L10.3 9.45l-7.72 7.72c-.78.78-.78 2.05 0 2.83L4 21.41c.39.39.9.59 1.41.59.51 0 1.02-.2 1.41-.59l7.78-7.78 2.81-2.81c.8-.78.8-2.07 0-2.86zM5.41 20L4 18.59l7.72-7.72 1.47 1.35L5.41 20z\"/>\n",
              "  </svg>\n",
              "      </button>\n",
              "      \n",
              "  <style>\n",
              "    .colab-df-container {\n",
              "      display:flex;\n",
              "      flex-wrap:wrap;\n",
              "      gap: 12px;\n",
              "    }\n",
              "\n",
              "    .colab-df-convert {\n",
              "      background-color: #E8F0FE;\n",
              "      border: none;\n",
              "      border-radius: 50%;\n",
              "      cursor: pointer;\n",
              "      display: none;\n",
              "      fill: #1967D2;\n",
              "      height: 32px;\n",
              "      padding: 0 0 0 0;\n",
              "      width: 32px;\n",
              "    }\n",
              "\n",
              "    .colab-df-convert:hover {\n",
              "      background-color: #E2EBFA;\n",
              "      box-shadow: 0px 1px 2px rgba(60, 64, 67, 0.3), 0px 1px 3px 1px rgba(60, 64, 67, 0.15);\n",
              "      fill: #174EA6;\n",
              "    }\n",
              "\n",
              "    [theme=dark] .colab-df-convert {\n",
              "      background-color: #3B4455;\n",
              "      fill: #D2E3FC;\n",
              "    }\n",
              "\n",
              "    [theme=dark] .colab-df-convert:hover {\n",
              "      background-color: #434B5C;\n",
              "      box-shadow: 0px 1px 3px 1px rgba(0, 0, 0, 0.15);\n",
              "      filter: drop-shadow(0px 1px 2px rgba(0, 0, 0, 0.3));\n",
              "      fill: #FFFFFF;\n",
              "    }\n",
              "  </style>\n",
              "\n",
              "      <script>\n",
              "        const buttonEl =\n",
              "          document.querySelector('#df-e78dcf12-3982-4fa6-af3c-2df7459f545b button.colab-df-convert');\n",
              "        buttonEl.style.display =\n",
              "          google.colab.kernel.accessAllowed ? 'block' : 'none';\n",
              "\n",
              "        async function convertToInteractive(key) {\n",
              "          const element = document.querySelector('#df-e78dcf12-3982-4fa6-af3c-2df7459f545b');\n",
              "          const dataTable =\n",
              "            await google.colab.kernel.invokeFunction('convertToInteractive',\n",
              "                                                     [key], {});\n",
              "          if (!dataTable) return;\n",
              "\n",
              "          const docLinkHtml = 'Like what you see? Visit the ' +\n",
              "            '<a target=\"_blank\" href=https://colab.research.google.com/notebooks/data_table.ipynb>data table notebook</a>'\n",
              "            + ' to learn more about interactive tables.';\n",
              "          element.innerHTML = '';\n",
              "          dataTable['output_type'] = 'display_data';\n",
              "          await google.colab.output.renderOutput(dataTable, element);\n",
              "          const docLink = document.createElement('div');\n",
              "          docLink.innerHTML = docLinkHtml;\n",
              "          element.appendChild(docLink);\n",
              "        }\n",
              "      </script>\n",
              "    </div>\n",
              "  </div>\n",
              "  "
            ]
          },
          "metadata": {},
          "execution_count": 11
        }
      ],
      "source": [
        "df.groupby(['Class']).count()"
      ]
    },
    {
      "cell_type": "code",
      "execution_count": null,
      "metadata": {
        "colab": {
          "base_uri": "https://localhost:8080/"
        },
        "id": "MTAGN8APJ3qk",
        "outputId": "922595fa-2acd-4914-97ea-18334d5b1c1c"
      },
      "outputs": [
        {
          "output_type": "stream",
          "name": "stdout",
          "text": [
            "[nltk_data] Downloading package stopwords to /root/nltk_data...\n",
            "[nltk_data]   Unzipping corpora/stopwords.zip.\n"
          ]
        }
      ],
      "source": [
        "from nltk.corpus import stopwords\n",
        "# print(stopwords.words('english'))\n",
        "# nltk.download('punkt')\n",
        "import nltk\n",
        "nltk.download('stopwords')\n",
        "\n",
        "\n",
        "stop=set(stopwords.words('english'))\n",
        "\n",
        "\n",
        "\n",
        "s=[]\n",
        "for l in low:\n",
        "#     print(l)\n",
        "    wordsn=word_tokenize(l[0])\n",
        "    for w in wordsn:\n",
        "        if w not in stop:\n",
        "            s.append(w)"
      ]
    },
    {
      "cell_type": "code",
      "execution_count": null,
      "metadata": {
        "colab": {
          "base_uri": "https://localhost:8080/"
        },
        "id": "7k1ZYx8vKFZq",
        "outputId": "f3b94189-15e3-42a1-8364-6f4238f5fa58"
      },
      "outputs": [
        {
          "output_type": "execute_result",
          "data": {
            "text/plain": [
              "238489"
            ]
          },
          "metadata": {},
          "execution_count": 13
        }
      ],
      "source": [
        "len(s)"
      ]
    },
    {
      "cell_type": "code",
      "execution_count": null,
      "metadata": {
        "id": "CUpHVoQ4Kk6Q"
      },
      "outputs": [],
      "source": [
        "import re\n",
        "import string\n",
        "import numpy as np\n",
        "import pandas as pd\n",
        "import tensorflow as tf\n",
        "import matplotlib.pyplot as plt\n",
        "import keras\n",
        "import nltk\n",
        "from nltk.corpus import stopwords\n",
        "from nltk.stem import SnowballStemmer\n",
        "from keras.preprocessing.text import Tokenizer\n",
        "from keras.preprocessing.sequence import pad_sequences\n",
        "from keras.models import Sequential\n",
        "from keras.layers import Dense, Flatten, LSTM, Conv1D, MaxPooling1D, Dropout, Activation,Bidirectional,TimeDistributed\n",
        "from keras.layers.embeddings import Embedding\n",
        "\n",
        "\n",
        "from sklearn.feature_extraction.text import CountVectorizer\n",
        "from keras.preprocessing.text import Tokenizer\n",
        "from keras.preprocessing.sequence import pad_sequences\n",
        "from keras.models import Sequential\n",
        "from keras.layers import Dense, Embedding, LSTM, SpatialDropout1D\n",
        "from sklearn.model_selection import train_test_split\n",
        "from keras.utils.np_utils import to_categorical\n",
        "from sklearn.utils import resample\n",
        "from sklearn.utils import shuffle\n",
        "from sklearn.metrics import confusion_matrix,classification_report\n",
        "import re"
      ]
    },
    {
      "cell_type": "code",
      "execution_count": null,
      "metadata": {
        "colab": {
          "base_uri": "https://localhost:8080/"
        },
        "id": "wz8Qld_2LsF1",
        "outputId": "fe152cf2-3a8c-467e-ad1d-3e6614ce8d49"
      },
      "outputs": [
        {
          "output_type": "stream",
          "name": "stdout",
          "text": [
            "                                                 reviews  polarity\n",
            "0      worst app hotels often don t take reservations...         0\n",
            "1      my experience was terrible first i book with 4...         0\n",
            "2      terrible service oyo take the prepaid booking ...         0\n",
            "3      apps is great until you have problem with your...         0\n",
            "4      i searched for couple friendly hotel and got t...         1\n",
            "...                                                  ...       ...\n",
            "15146                                        maganda sya         1\n",
            "15147                               aww i miss this game         0\n",
            "15148  xxx papa papa papa papat papat papat utot utot...         1\n",
            "15149                                    its a good game         1\n",
            "15150  stress out chilax come this make me feel when ...         0\n",
            "\n",
            "[15151 rows x 2 columns]\n"
          ]
        }
      ],
      "source": [
        "data = pd.read_csv('dataset1 (1) (1).csv', header = None)\n",
        "data.columns = ['reviews', 'polarity']\n",
        "\n",
        "data= data.dropna()\n",
        "print(data)"
      ]
    },
    {
      "cell_type": "code",
      "execution_count": null,
      "metadata": {
        "id": "lr6N6O_gL5ld"
      },
      "outputs": [],
      "source": [
        "def preprocess(text):  \n",
        "    stops = set(stopwords.words(\"english\"))\n",
        "    text = [w for w in text if not w in stops and len(w) >= 3]\n",
        "    text = \" \".join(text)\n",
        "    text = re.sub(r\"[^A-Za-z0-9^,!.\\/'+-=]\", \" \", text)\n",
        "    text = re.sub(r\"what's\", \"what is \", text)\n",
        "    text = re.sub(r\"\\'s\", \" \", text)\n",
        "    text = re.sub(r\"\\'ve\", \" have \", text)\n",
        "    text = re.sub(r\"n't\", \" not \", text)\n",
        "    text = re.sub(r\"i'm\", \"i am \", text)\n",
        "    text = re.sub(r\"\\'re\", \" are \", text)\n",
        "    text = re.sub(r\"\\'d\", \" would \", text)\n",
        "    text = re.sub(r\"\\'ll\", \" will \", text)\n",
        "    text = re.sub(r\",\", \" \", text)\n",
        "    text = re.sub(r\"\\.\", \" \", text)\n",
        "    text = re.sub(r\"!\", \" ! \", text)\n",
        "    text = re.sub(r\"\\/\", \" \", text)\n",
        "    text = re.sub(r\"\\^\", \" ^ \", text)\n",
        "    text = re.sub(r\"\\+\", \" + \", text)\n",
        "    text = re.sub(r\"\\-\", \" - \", text)\n",
        "    text = re.sub(r\"\\=\", \" = \", text)\n",
        "    text = re.sub(r\"'\", \" \", text)\n",
        "    text = re.sub(r\"(\\d+)(k)\", r\"\\g<1>000\", text)\n",
        "    text = re.sub(r\":\", \" : \", text)\n",
        "    text = re.sub(r\" e g \", \" eg \", text)\n",
        "    text = re.sub(r\" b g \", \" bg \", text)\n",
        "    text = re.sub(r\" u s \", \" american \", text)\n",
        "    text = re.sub(r\"\\0s\", \"0\", text)\n",
        "    text = re.sub(r\" 9 11 \", \"911\", text)\n",
        "    text = re.sub(r\"e - mail\", \"email\", text)\n",
        "    text = re.sub(r\"j k\", \"jk\", text)\n",
        "    text = re.sub(r\"\\s{2,}\", \" \", text)\n",
        "    text = text.split()\n",
        "    stemmer = SnowballStemmer('english')\n",
        "    stemmed_words = [stemmer.stem(word) for word in text]\n",
        "    text = \" \".join(stemmed_words)\n",
        "\n",
        "    return text"
      ]
    },
    {
      "cell_type": "code",
      "execution_count": null,
      "metadata": {
        "id": "HUHQA0G2Z1F8"
      },
      "outputs": [],
      "source": [
        "x = data['reviews']\n",
        "y = data['polarity']\n",
        "x, x_test, y, y_test = train_test_split(x,y, stratify=y, test_size=0.15, random_state=42)"
      ]
    },
    {
      "cell_type": "code",
      "execution_count": null,
      "metadata": {
        "id": "hN6DGw83Z65q"
      },
      "outputs": [],
      "source": [
        "# Vectorize text reviews to numbers\n",
        "vec = CountVectorizer(stop_words='english')\n",
        "x = vec.fit_transform(x).toarray()\n",
        "x_test = vec.transform(x_test).toarray()"
      ]
    },
    {
      "cell_type": "code",
      "execution_count": null,
      "metadata": {
        "colab": {
          "base_uri": "https://localhost:8080/"
        },
        "id": "CUrMQlltaAXt",
        "outputId": "8cf479a3-902b-4019-d620-cfe44ce12a1c"
      },
      "outputs": [
        {
          "output_type": "execute_result",
          "data": {
            "text/plain": [
              "MultinomialNB()"
            ]
          },
          "metadata": {},
          "execution_count": 19
        }
      ],
      "source": [
        "from sklearn.naive_bayes import MultinomialNB\n",
        "from sklearn.ensemble import RandomForestClassifier\n",
        "model = MultinomialNB()\n",
        "model.fit(x, y)"
      ]
    },
    {
      "cell_type": "code",
      "execution_count": null,
      "metadata": {
        "id": "joBPNywxaHMb"
      },
      "outputs": [],
      "source": [
        "from sklearn import metrics\n",
        "predicted = model.predict(x_test)\n",
        "accuracy_score = metrics.accuracy_score(predicted, y_test)\n"
      ]
    },
    {
      "cell_type": "code",
      "execution_count": null,
      "metadata": {
        "colab": {
          "base_uri": "https://localhost:8080/"
        },
        "id": "26VHcMfTaMCX",
        "outputId": "8d691a39-a20c-41db-a4b2-b3ae2200fbd5"
      },
      "outputs": [
        {
          "output_type": "execute_result",
          "data": {
            "text/plain": [
              "0.8631764188297404"
            ]
          },
          "metadata": {},
          "execution_count": 21
        }
      ],
      "source": [
        "model.score(x_test, y_test)"
      ]
    },
    {
      "cell_type": "code",
      "execution_count": null,
      "metadata": {
        "colab": {
          "base_uri": "https://localhost:8080/"
        },
        "id": "K79nP0gqaRKH",
        "outputId": "b4e3ca5a-02b7-4eb2-8a4b-28fed899457c"
      },
      "outputs": [
        {
          "output_type": "execute_result",
          "data": {
            "text/plain": [
              "['model.pkl']"
            ]
          },
          "metadata": {},
          "execution_count": 22
        }
      ],
      "source": [
        "# Save model\n",
        "import joblib\n",
        "joblib.dump(model, 'model.pkl')"
      ]
    },
    {
      "cell_type": "code",
      "execution_count": null,
      "metadata": {
        "colab": {
          "base_uri": "https://localhost:8080/"
        },
        "id": "l8x4aZldj_bY",
        "outputId": "7ccba831-e45d-4c06-b6cf-aafd5574b50a"
      },
      "outputs": [
        {
          "output_type": "stream",
          "name": "stdout",
          "text": [
            "Requirement already satisfied: google_play_scraper in /usr/local/lib/python3.7/dist-packages (1.0.5)\n"
          ]
        }
      ],
      "source": [
        "!pip install google_play_scraper\n",
        "from google_play_scraper import app\n",
        "import re\n",
        "import nltk\n",
        "from nltk.tokenize import word_tokenize\n",
        "import csv"
      ]
    },
    {
      "cell_type": "code",
      "execution_count": null,
      "metadata": {
        "id": "Nx1PUo24bT80"
      },
      "outputs": [],
      "source": [
        "link = \"https://play.google.com/store/apps/details?id=com.whatsapp\"\n",
        "findId=link.find('id=')\n",
        "\n",
        "url=link[findId+3:]\n",
        "file = open(\"c.txt\", \"w\",encoding='utf-8')\n",
        "file.write(str(app(\n",
        "    url,\n",
        "    lang='en', # defaults to 'en'\n",
        "    country='us' # defaults to 'us'\n",
        ")))\n",
        "file.close()"
      ]
    },
    {
      "cell_type": "code",
      "execution_count": null,
      "metadata": {
        "colab": {
          "base_uri": "https://localhost:8080/"
        },
        "id": "nEfxY0bSbhL6",
        "outputId": "107adead-27c7-47ce-ea57-0f82b52c3b6f"
      },
      "outputs": [
        {
          "output_type": "stream",
          "name": "stdout",
          "text": [
            "comments': ['The app is mostly great and problem-free, but there ARE two ongoing issues: 1. Notifications usually work well, but then a few will suddenly pop up on \"silent\" for no reason, then inexplicably resume functioning correctly. (Clearing the cache & data, and uninstalling/reinstalling the app does not fix this problem.) 2. When a spam message comes in, there\\'s NO way to block/report the sender WITHOUT opening their message. (This is especially distressing for anyone with Read Receipts enabled.)', \"This app is a great way to stay in contact with familys and friends that are overseas. However as of lately I am unable to send or share video medias. As an android user I'm not sure what to do. I have tried everything from what I have seen on YouTube but nothing works. As this point its becoming frustrating and annoying to keep getting this error message. Please look into it.\", \"Overall this is a great messaging system. My complaint is with the support available for users. We recently tried to update our phones and the installation of WhatsApp was interrupted. We transferred a local drive copy from the old phone to the new one via a PC. The app won't pick up the local drive copy of the messages in the phone. We contacted WhatsApp for support, not for our messages (because we have them) but for help on the transfer issue. It is very frustrating.\", \"This app is really not user friendly. If you start typing a message and then have to click off that message, it saves the draft but it doesn't save it as the most recent message, so you have to go digging to find the conversation again. This is a pain when you are replying privately to a message originating from a group chat. I hate that I have to add people to my contacts list to send them a message. Update - you can caption before sending pics. Now two stars instead of one.\", \"There are 0 notifications unless you open the app. I've done ALL the troubleshooting. All the settings are as they should be, software is up to date. It was working until 3-4 days ago then notifications just stopped. No changes were made on my end. I had to uninstall because it started being glitchy, then reinstall and it's even worse now.\", \"Whatsapp is awesome, you can mute whichever number you so choose for a certain amount of time (hours to days). To changing the wallpaper in chat rooms and light mode theme. Though, i would love it if they added the option to change the text bubble! I see that it's an option for other phones (ive looked up how to change bubble text color but the option simply isnt there. Very minor detail but would like for it to be added) Asside from that! Whatsapp is great 10/10.\", \"Early adopter more than a decade ago , recently i haven't been able to listen to voice messages loudly , only by listening through phone , but not loud speaker, phone goes dark. Disabled all sensors , reset everything , even bought another pixel 6 phone ...all same . Can't listen to voice message loudly and or without turning screen black. New bad bug , when listen to message , can't type anything or add new message , can't skip or go back, have to hear message to end or completely stop app\", 'They just ruined whatsapp and desguised it as an upgrade. Previously you could send yourself a message and view it on your phone and the WhatsApp Web interface. They \"UPGRADED\" WhatsApp Web and now you cannot do that (you don\\'t have to keep your phone connected). The two interfaces no longer sync with each other! The change also makes it less secure! Update: they fixed it for a couple days, but it\\'s still broken again now for the past week!', \"WhatsApp has the best voice/video calling connection I've found. Love the audio recording though I wish it could pause. Love the video messaging as well. It would easily be 5 stars if I could *edit written messages*. Stickers would be great. Oh, and the search function is really wonky. I've used it as my primary international communication app for years, but now use Telegram for day to day communications, and WhatsApp mostly for video calls now. It's still got the most reliable connection.\", \"! GREAT BUT NEED ONE FEATURE NEEDED ! We're not able to fully use this app for our company because it does not have the ability to schedule messages to go out at a later date. There are other apps that we can install on top of this one to schedule messages but they are very difficult to use. Our messaging apps through Samsung Galaxy we can schedule messages very easily to go out at whatever date in the future we would like them to. This is extremely useful in our company. Thanks what's app!\", \"Seems like each installation is buggier than the last. Crashes regularly on my older laptop, can't answer calls on the desktop version unless I'm already on the app window. Reset settings on my samsung cell and all my contact names have vanished, replaced by their numbers which I can'tswem to reverse, and I'm average tech savvy. Downloading an update with fingers crossed but I'll be looking for a different app if this doesn't improve on the new cell next month.\", \"With The recent update my phone doesn't load pictures, I checked the settings nothing changed. After a week of missing out on important images in my volunteer group, just in case I cleared my entire phone image (eventhough i had 2GB of free space) I then un-installed and re-installed the app to see if that fixed the problem. That didn't fix anything!! I've sent whatsapp msgs to Whatsapp help chat; you'll never get a response from a live person it clearly is a bot scanning your msgs 😡😡😡😡😡\", \"Its been a long time since I've last reviewed. This app is great, though I would really like if we can customize our profile, like, we can add headers to our profile to customize it. I think that would be sooo cool! I also do really want more ways to customize our custom status. Such as, add more fonts and colors. One problem is that whenever I post a video to my status it always have to be low quality. ☹️\", \"In General, seems ok. However the computer version leaves a lot to be desired. There's no way to log in without having the phone app open too and scanning some box. Not everyone knows how to do that, me included. You should be able to just log into your account with your email and phone number once and be able to stay logged in. I don't like it at all, which is why I took stars away from it.\", \"It doesn't work on my tablet, which is annoying (cannot get past entering my cell number, nothing happens). It works on my feature phone, but I can't organise my contacts; whatsapp directly copies from the phone's contacts, with no other options, and you cannot delete someone from whatsapp unless you delete them from the phone contacts. But overall it's handy to have, and works with international numbers.\", 'The app used to be user-friendly. Unfortunately, for some reason; you are not allowed to send videos that are more than 11 minutes (recorded videos safe on your celular gallery). If the video is more than 11 minutes, it will not allow you to share it. The app is good for sharing photos, gif and short videos.', 'A nice alternative to the built in Messenger app in phones. Allows for texting anyone in the world without incurring charges. However, there is no ability to configure the app to only allow messaging from your contacts. In order to prevent - I should say reduce - spam messages, you need to set your profile to private. However, as indicated this still does not prevent spam from random, unknown senders. There really is no excuse for any app of this nature to not have decent blocking features.', \"Very convenient to communicate through text and call. Great futures, like group conversation, deleating posts from group chats and easy to send multiple pictures. Extremely user friendly. Why can't we use Bluetooth for video calls...? We need privacy for these conversations. Please do something about it.\", 'Very good app if you will be talking to anyone long-distance or in general! Well designed and very popular! Highly recommend, even if you do not talk to anyone long-distance you may happen to encounter someone who is, besides, it is often preferred over other messaging apps regardless of its main purpose in my experience.', \"The videos you upload to your status sometimes do not sync with audio. I love using the app but it's been years with the same problems and the updates aren't helping in that regards. The funny thing is, the older version when the status section was added, i never had these issues. An update is supposed to make things NEW and IMPROVED. If a new update is released and I find that these issues are still current, I won't hesitate to Uninstall it. Please fix the app people.\", 'Attempting to switch phones is an absolute nightmare. The only way to restore from local backup is to uninstall & reinstall then locks you out for trying more than once (despite successful security check every time) only to ignore the local backup then use a very outdated cloud backup. Online help docs are convoluted and useless. \"Call me\" option is a do nothing placebo', \"WhatsApp is my go to, I have used it to stay in touch with my family and friends for the last 12 years. Lately I'm frustrated that voice calls keep cutting out, I'm not able to hear the other person randomly, and they can't hear me randomly. It leads to a lot of repetition, etc. Please fix this.\", 'After recent update, I am unable to log into WhatsApp Web. I have a Note 10, and everything was working perfectly before the update. After the recent update, now I am unable to connect to the computer. I have read multiple articles in WhatsApp Support but nothing work or applied to my case. If I try to press the \"Link a device\" it stayed in a loop. It take ask me to unlock the device to link and it goes back to the page to \"Link a device\".', \"Can never link more than one device at a time. Once i try to add another device the previous one always gets logged out because of sync issue.. horrible app. Don't know what my friends were thinking going here. I always lose contact with them when switching devices because i can't remember to log in to your buggy app every single time 👎👎👎\", \"After the latest update, WhatsApp keep switching the storage (media) folder. Because of that, even though the sent/received (mainly sent) files are there in my phone storage (but sometimes in one folder and sometimes in another one), WhatsApp sometimes shows them in the chat and sometimes doesn't. It's irritating and frustrating. Please fix this bug at the earliest possible convenience 🙏🏻. Thank you!\", \"Awesome 👌 experience with what's app..There’s need to up the app in a situation where by you don't to clear everything. One should be able to go to where we have options for photos ,videos and documents and select all the pictures and videos that is not needed to delete at once. It will make it user friendly. But so far I am enjoying 😉 the app.\", \"Hello @WhatsApp. There's a bug on images/videos downloaded. It shows an edit button which crashes the view mode whenever it is clicked. Also, Can you please include a search button on the list of status viewers. It's quite difficult to search and know if a particuar person has viewed your status when you have a lot of viewers. The consideration this requirement will be highly apppreciated.\", 'Great app. I have had no issues ever. Happy to see instant reactions now available! Been waiting ages for that. I have other recommendations though, we need to be able to edit messages this would be highly useful. Also would love to see something like Duo have done with family friendly features where you can draw/doodle in the middle of a call or use fun masks.', \"Not always a great experience, but most of the time it is a helpful app, especially that it has the desktop extension. It has some issues with the server connection, not always real-time and some days even crushing when opening certain profiles. I keep it up to date and I'm backing up history, but even so, it still has some bugs. Yet I consider it highly useful. Therefore I will always give, for as long as it keeps beeing ads free and costs free, all the deserved 5 stars, against all odds.\", 'I use it a lot... Probably more than any other app. But the lack of ability to edit messages is just stupid, the fact that when you are on a three-way call the screen splits such that the video of you is the largest and your friends and family are barely visible (why not a small picture-in-picture of you like other apps?) irritates the hell out of me. But by far the worst problem in recent times is that it does not respond to your phone being in silent mode overnight. Buzzes all damn night.', \"The fact that backup can only be done at 2am is nonsense. And automatically reducing quality of pictures and videos is alarming. Most importantly, the fact that pictures or videos can not be organized into folder or album turns me off the most when trying to post on my status....Like I will have to go down down whenever I want to select a picture/video I had probably taken months or years before....It wastes a lot of time....You need to do better. Nevertheless, it's not entirely bad.\", \"Well I've been using Whatsapp for around 5 years now, and the first 4½ years I haven't faced any issues, but for the last few months I faced an issue when I send gallery edited videos! (I'm using a Samsung device). While I have found a workaround that I used to send videos and they have sound! But if I just edit the video from Gallery and sendit to WA, the sound disappears when sent. Please fix this with a bug fix update or something! Other than that good texting app!\", \"In as much as I love the recent updates, I noticed the archived folder has been moved down which is a nice one than it being on top. But I wasn't happy cos once a message comes to a chat that is archived, it reappears on my list then if I go to the settings to stop that from happening, the archived folder reappears on the top of my chat screen. I would suggest that you work on that so that no matter what the archived folder doesn't stay on top but below. Aside that I will rate the app 5 stars.\", \"The export is completely misleading, only the last little bit of a conversation, no media, and no import! WhatsApp still takes file backups, but it seems that there is absolutely no actually import from this anymore when you change devices! I don't like that there is no way to restore deleted conversations.. they should stick around for a week or so, or better yet forever and just go to a deleted folder.\", \"Good app for sending and receiving chats, including photos and documents (although when I select multiple photos in a batch, they end up sending in a different order). Voice call and video call features are comparable to other platforms I've tried, and of course, the call quality is limited by the internet connection quality/speed/stability.\", 'This App is one of the highly ratwd app used all across tge globe. No doubt, the App is great to use. But, just today, I updated the App and I discovered that whenever I try to click play to listen to an audio, my phone goes blank until the end of the audio then it coes on right back. What xoukd be wrong? Please, kindly fix. Thanks!', \"Voice recording was working and than suddenly stopped. I can receive voice notes but I can't send them. I have done all the troubleshooting with no success. No information online either about voice recording not functioning on Oppo phone. I have reduced my use of the app because of this as many of my conversations are primarily voice notes. All the updates and they haven't resolved it\", \"A great app for one to one conversations. Their audio and video options work well too. Although I hope in the near future they add an unsend option like Instagram and remove this delete for all thing which leaves behind a message box even after deleting. This kind of lets the other person know i have deleted something. It's inconvenient in many scenarios.\", \"There's no chance (it's like that in many versions back) that you can edit a video with the result matching what's set in the editor. Everything works fine when you cut off the end of it, but the moment you touch the start marker - don't even hope to see whatever you marked.  I decided to report it straight away after recent update, STILL having this error - version after version - like nobody cares.\", \"I love🙂 all voice message features and emojis Whatsapp provides us. Besides that, we can ourselves set our wallpaper and choose dark theme mode(by going to settings). We can even control who can see our status updates, profile, etc. But the one issue I face is that the quality of video calls is very poor.🙁 Sometimes we can't hear each other and at other times we can't see each other too. The voice call is still better though.\"], '\n"
          ]
        }
      ],
      "source": [
        "myfile=[]\n",
        "with open(\"c.txt\",encoding='utf8') as mydata:\n",
        "\tfor data in mydata:\n",
        "\t\tmyfile.append(data)\n",
        "start=myfile[0].find('comments')\n",
        "end=myfile[0].find('editorsChoice')\n",
        "c=data[start:end]\n",
        "print(c)"
      ]
    },
    {
      "cell_type": "code",
      "execution_count": null,
      "metadata": {
        "id": "tf2-88G2bqE6"
      },
      "outputs": [],
      "source": [
        "import re\n",
        "import nltk\n",
        "from nltk.corpus import stopwords\n",
        "from nltk.stem import SnowballStemmer\n",
        "def preprocess(text):  \n",
        "    text = text.lower().split()\n",
        "    stops = set(stopwords.words(\"english\"))\n",
        "    text = [w for w in text if not w in stops and len(w) >= 3]\n",
        "    text = \" \".join(text)\n",
        "    text = re.sub(r\"[^A-Za-z0-9^,!.\\/'+-=]\", \" \", text)\n",
        "    text = re.sub(r\"what's\", \"what is \", text)\n",
        "    text = re.sub(r\"\\'s\", \" \", text)\n",
        "    text = re.sub(r\"\\'ve\", \" have \", text)\n",
        "    text = re.sub(r\"n't\", \" not \", text)\n",
        "    text = re.sub(r\"i'm\", \"i am \", text)\n",
        "    text = re.sub(r\"\\'re\", \" are \", text)\n",
        "    text = re.sub(r\"\\'d\", \" would \", text)\n",
        "    text = re.sub(r\"\\'ll\", \" will \", text)\n",
        "    text = re.sub(r\",\", \" \", text)\n",
        "    text = re.sub(r\"\\.\", \" \", text)\n",
        "    text = re.sub(r\"!\", \" ! \", text)\n",
        "    text = re.sub(r\"\\/\", \" \", text)\n",
        "    text = re.sub(r\"\\^\", \" ^ \", text)\n",
        "    text = re.sub(r\"\\+\", \" + \", text)\n",
        "    text = re.sub(r\"\\-\", \" - \", text)\n",
        "    text = re.sub(r\"\\=\", \" = \", text)\n",
        "    text = re.sub(r\"'\", \" \", text)\n",
        "    text = re.sub(r\"(\\d+)(k)\", r\"\\g<1>000\", text)\n",
        "    text = re.sub(r\":\", \" : \", text)\n",
        "    text = re.sub(r\" e g \", \" eg \", text)\n",
        "    text = re.sub(r\" b g \", \" bg \", text)\n",
        "    text = re.sub(r\" u s \", \" american \", text)\n",
        "    text = re.sub(r\"\\0s\", \"0\", text)\n",
        "    text = re.sub(r\" 9 11 \", \"911\", text)\n",
        "    text = re.sub(r\"e - mail\", \"email\", text)\n",
        "    text = re.sub(r\"j k\", \"jk\", text)\n",
        "    text = re.sub(r\"\\s{2,}\", \" \", text)\n",
        "    text = text.split()\n",
        "    stemmer = SnowballStemmer('english')\n",
        "    stemmed_words = [stemmer.stem(word) for word in text]\n",
        "    text = \" \".join(stemmed_words)\n",
        "\n",
        "    return text\n",
        "    "
      ]
    },
    {
      "cell_type": "code",
      "execution_count": null,
      "metadata": {
        "colab": {
          "base_uri": "https://localhost:8080/"
        },
        "id": "0Od8z9RQkbR4",
        "outputId": "029983c8-56b2-4218-92a2-2aa8ad9e8863"
      },
      "outputs": [
        {
          "output_type": "stream",
          "name": "stdout",
          "text": [
            "comment : the app most great problem - free two ongo issu : notif usual work well sudden pop silent reason inexplic resum function correct clear cach data uninstal reinstal app fix problem spam messag come in there way block report sender without open messag this especi distress anyon read receipt enabl this app great way stay contact famili friend oversea howev late unabl send share video media android user i am sure do tri everyth seen youtub noth work point becom frustrat annoy keep get error messag pleas look it overal great messag system complaint support avail user recent tri updat phone instal whatsapp interrupt transfer local drive copi old phone new one via pc app pick local drive copi messag phone contact whatsapp support messag becaus them help transfer issu frustrat this app realli user friend start type messag click messag save draft save recent messag dig find convers again pain repli privat messag origin group chat hate add peopl contact list send messag updat caption send pic two star instead one there notif unless open app i have done troubleshoot set be softwar date work 3 - 4 day ago notif stop chang made end uninstal start glitchi reinstal even wors now whatsapp awesom mute whichev number choos certain amount time hour day chang wallpap chat room light mode theme though would love ad option chang text bubbl ! see option phone ive look chang bubbl text color option simpli isnt there minor detail would like ad assid that ! whatsapp great 10 10 earli adopt decad ago recent abl listen voic messag loud listen phone loud speaker phone goe dark disabl sensor reset everyth even bought anoth pixel phone all ca not listen voic messag loud without turn screen black new bad bug listen messag ca not type anyth add new messag ca not skip back hear messag end complet stop app they ruin whatsapp desguis upgrad previous could send messag view phone whatsapp web interfac upgrad whatsapp web cannot you don t keep phone connect two interfac longer sync other ! chang also make less secur ! updat : fix coupl day it still broken past week ! whatsapp best voic video call connect i have found love audio record though wish could paus love video messag well would easili star could edit written messag sticker would great oh search function realli wonki i have use primari intern communic app year use telegram day day communic whatsapp most video call now still got reliabl connect great need one featur need we are abl fulli use app compani abil schedul messag later date app instal top one schedul messag difficult use messag app samsung galaxi schedul messag easili whatev date futur would like to extrem use compani thank what is app ! seem like instal buggier last crash regular older laptop ca not answer call desktop version unless i am alreadi app window reset set samsung cell contact name vanish replac number ca not swem revers i am averag tech savvi download updat finger cross i will look differ app improv new cell next month with recent updat phone load pictur check set noth chang week miss import imag volunt group case clear entir phone imag eventhough 2gb free space un - instal re - instal app see fix problem fix anyth ! ! i have sent whatsapp msgs whatsapp help chat; never get respons live person clear bot scan msgs it long time sinc i have last review app great though would realli like custom profil like add header profil custom it think would sooo cool ! also realli want way custom custom status as add font color one problem whenev post video status alway low qualiti in general seem ok howev comput version leav lot desir there way log without phone app open scan box everyon know that includ abl log account email phone number abl stay log in like all took star away it it work tablet annoy cannot get past enter cell number noth happen work featur phone ca not organis contacts; whatsapp direct copi phone contact option cannot delet someon whatsapp unless delet phone contact overal handi have work intern number the app use user - friend unfortun reason; allow send video minut record video safe celular galleri video minut allow share it app good share photo gif short video nice altern built messeng app phone allow text anyon world without incur charg howev abil configur app allow messag contact order prevent say reduc spam messag need set profil privat howev indic still prevent spam random unknown sender realli excus app natur decent block featur veri conveni communic text call great futur like group convers deleat post group chat easi send multipl pictur extrem user friend ca not use bluetooth video call need privaci convers pleas someth it have ry good app talk anyon long - distanc general ! well design popular ! high recommend even talk anyon long - distanc may happen encount someon is besid often prefer messag app regardless main purpos experi the video upload status sometim sync audio love use app year problem updat help regard funni thing is older version status section ad never issu updat suppos make thing new improv new updat releas find issu still current hesit uninstal it pleas fix app peopl attempt switch phone absolut nightmar way restor local backup uninstal reinstal lock tri despit success secur check everi time ignor local backup use outdat cloud backup onlin help doc convolut useless call me option noth placebo whatsapp to use stay touch famili friend last year late i am frustrat voic call keep cut out i am abl hear person random ca not hear random lead lot repetit etc pleas fix this after recent updat unabl log whatsapp web note 10 everyth work perfect updat recent updat unabl connect comput read multipl articl whatsapp support noth work appli case tri press link devic stay loop take ask unlock devic link goe back page link devic can never link one devic time tri add anoth devic previous one alway get log sync issu horribl app know friend think go here alway lose contact switch devic ca not rememb log buggi app everi singl time after latest updat whatsapp keep switch storag media folder that even though sent receiv main sent file phone storag but sometim one folder sometim anoth one whatsapp sometim show chat sometim doe not irrit frustrat pleas fix bug earliest possibl conveni thank you ! awesom experi what is app there s need app situat clear everyth one abl option photo video document select pictur video need delet onc make user friend far enjoy app hello whatsapp there bug imag video download show edit button crash view mode whenev click also pleas includ search button list status viewer quit difficult search know particuar person view status lot viewer consider requir high apppreci great app issu ever happi see instant reaction avail ! wait age that recommend though need abl edit messag would high use also would love see someth like duo done famili friend featur draw doodl middl call use fun mask not alway great experi time help app especi desktop extens issu server connect alway real - time day even crush open certain profil keep date i am back histori even so still bug yet consid high use therefor alway give long keep bee ad free cost free deserv star odd use lot probabl app lack abil edit messag stupid fact three - way call screen split video largest friend famili bare visibl whi small pictur - in - pictur like app irrit hell me far worst problem recent time respond phone silent mode overnight buzz damn night the fact backup done 2am nonsens automat reduc qualiti pictur video alarm import fact pictur video organ folder album turn tri post status like whenev want select pictur video probabl taken month year befor it wast lot time you need better nevertheless entir bad well i have use whatsapp around year now first year face issu last month face issu send galleri edit video ! i am use samsung devic found workaround use send video sound ! edit video galleri sendit wa sound disappear sent pleas fix bug fix updat someth ! good text app ! in much love recent updat notic archiv folder move nice one top happi cos messag come chat archiv reappear list set stop happen archiv folder reappear top chat screen would suggest work matter archiv folder stay top below asid rate app star the export complet mislead last littl bit convers media import ! whatsapp still take file backup seem absolut actual import anymor chang devic ! like way restor delet convers stick around week so better yet forev delet folder good app send receiv chat includ photo document although select multipl photo batch end send differ order voic call video call featur compar platform i have tri cours call qualiti limit internet connect qualiti speed stabil this app one high ratwd app use across tge globe doubt app great use but today updat app discov whenev tri click play listen audio phone goe blank end audio coe right back xoukd wrong pleas kind fix thank ! voic record work sudden stop receiv voic note ca not send them done troubleshoot success inform onlin either voic record function oppo phone reduc use app mani convers primarili voic note updat resolv it great app one one convers audio video option work well too although hope near futur add unsend option like instagram remov delet thing leav behind messag box even delet kind let person know delet someth inconveni mani scenario there chanc it like mani version back edit video result match what is set editor everyth work fine cut end it moment touch start marker even hope see whatev mark decid report straight away recent updat still error version version like nobodi care love voic messag featur emoji whatsapp provid us besid that set wallpap choos dark theme mode by go set even control see status updat profil etc one issu face qualiti video call poor sometim ca not hear time ca not see too voic call still better though\n"
          ]
        }
      ],
      "source": [
        "c = preprocess(c)\n",
        "print(c)"
      ]
    },
    {
      "cell_type": "code",
      "execution_count": null,
      "metadata": {
        "colab": {
          "base_uri": "https://localhost:8080/"
        },
        "id": "o5cbSvMNbx-l",
        "outputId": "4c7cae4f-c448-489d-ff67-bfd4ca6798dc"
      },
      "outputs": [
        {
          "output_type": "stream",
          "name": "stdout",
          "text": [
            "comment  the app most great problem  free two ongo issu  notif usual work well sudden pop silent reason inexplic resum function correct clear cach data uninstal reinstal app fix problem spam messag come in there way block repo sender without open messag this especi distress anyon read receipt enabl this app great way stay contact famili friend oversea howev late unabl send share video media android user i am sure do tri everyth seen youtub noth work point becom frustrat annoy keep get error messag pleas look it overal great messag system complaint suppo avail user recent tri updat phone instal whatsapp interrupt transfer local drive copi old phone new one via pc app pick local drive copi messag phone contact whatsapp suppo messag becaus them help transfer issu frustrat this app realli user friend sta type messag click messag save draft save recent messag dig find convers again pain repli privat messag origin group chat hate add peopl contact list send messag updat caption send pic two star instead one there notif unless open app i have done troubleshoot set be softwar date work 3  4 day ago notif stop chang made end uninstal sta glitchi reinstal even wors now whatsapp awesom mute whichev number choos ceain amount time hour day chang wallpap chat room light mode theme though would love ad option chang text bubbl  see option phone ive look chang bubbl text color option simpli isnt there minor detail would like ad assid that  whatsapp great 10 10 earli adopt decad ago recent abl listen voic messag loud listen phone loud speaker phone goe dark disabl sensor reset everyth even bought anoth pixel phone all ca not listen voic messag loud without turn screen black new bad bug listen messag ca not type anyth add new messag ca not skip back hear messag end complet stop app they ruin whatsapp desguis upgrad previous could send messag view phone whatsapp web interfac upgrad whatsapp web cannot you don t keep phone connect two interfac longer sync other  chang also make less secur  updat  fix coupl day it still broken past week  whatsapp best voic video call connect i have found love audio record though wish could paus love video messag well would easili star could edit written messag sticker would great oh search function realli wonki i have use primari intern communic app year use telegram day day communic whatsapp most video call now still got reliabl connect great need one featur need we are abl fulli use app compani abil schedul messag later date app instal top one schedul messag difficult use messag app samsung galaxi schedul messag easili whatev date futur would like to extrem use compani thank what is app  seem like instal buggier last crash regular older laptop ca not answer call desktop version unless i am alreadi app window reset set samsung cell contact name vanish replac number ca not swem revers i am averag tech savvi download updat finger cross i will look differ app improv new cell next month with recent updat phone load pictur check set noth chang week miss impo imag volunt group case clear entir phone imag eventhough 2gb free space un  instal re  instal app see fix problem fix anyth   i have sent whatsapp msgs whatsapp help chat never get respons live person clear bot scan msgs it long time sinc i have last review app great though would realli like custom profil like add header profil custom it think would sooo cool  also realli want way custom custom status as add font color one problem whenev post video status alway low qualiti in general seem ok howev comput version leav lot desir there way log without phone app open scan box everyon know that includ abl log account email phone number abl stay log in like all took star away it it work tablet annoy cannot get past enter cell number noth happen work featur phone ca not organis contacts whatsapp direct copi phone contact option cannot delet someon whatsapp unless delet phone contact overal handi have work intern number the app use user  friend unfoun reason allow send video minut record video safe celular galleri video minut allow share it app good share photo gif sho video nice altern built messeng app phone allow text anyon world without incur charg howev abil configur app allow messag contact order prevent say reduc spam messag need set profil privat howev indic still prevent spam random unknown sender realli excus app natur decent block featur veri conveni communic text call great futur like group convers deleat post group chat easi send multipl pictur extrem user friend ca not use bluetooth video call need privaci convers pleas someth it have ry good app talk anyon long  distanc general  well design popular  high recommend even talk anyon long  distanc may happen encount someon is besid often prefer messag app regardless main purpos experi the video upload status sometim sync audio love use app year problem updat help regard funni thing is older version status section ad never issu updat suppos make thing new improv new updat releas find issu still current hesit uninstal it pleas fix app peopl attempt switch phone absolut nightmar way restor local backup uninstal reinstal lock tri despit success secur check everi time ignor local backup use outdat cloud backup onlin help doc convolut useless call me option noth placebo whatsapp to use stay touch famili friend last year late i am frustrat voic call keep cut out i am abl hear person random ca not hear random lead lot repetit etc pleas fix this after recent updat unabl log whatsapp web note 10 everyth work perfect updat recent updat unabl connect comput read multipl aicl whatsapp suppo noth work appli case tri press link devic stay loop take ask unlock devic link goe back page link devic can never link one devic time tri add anoth devic previous one alway get log sync issu horribl app know friend think go here alway lose contact switch devic ca not rememb log buggi app everi singl time after latest updat whatsapp keep switch storag media folder that even though sent receiv main sent file phone storag but sometim one folder sometim anoth one whatsapp sometim show chat sometim doe not irrit frustrat pleas fix bug earliest possibl conveni thank you  awesom experi what is app there s need app situat clear everyth one abl option photo video document select pictur video need delet onc make user friend far enjoy app hello whatsapp there bug imag video download show edit button crash view mode whenev click also pleas includ search button list status viewer quit difficult search know paicuar person view status lot viewer consider requir high apppreci great app issu ever happi see instant reaction avail  wait age that recommend though need abl edit messag would high use also would love see someth like duo done famili friend featur draw doodl middl call use fun mask not alway great experi time help app especi desktop extens issu server connect alway real  time day even crush open ceain profil keep date i am back histori even so still bug yet consid high use therefor alway give long keep bee ad free cost free deserv star odd use lot probabl app lack abil edit messag stupid fact three  way call screen split video largest friend famili bare visibl whi small pictur  in  pictur like app irrit hell me far worst problem recent time respond phone silent mode overnight buzz damn night the fact backup done 2am nonsens automat reduc qualiti pictur video alarm impo fact pictur video organ folder album turn tri post status like whenev want select pictur video probabl taken month year befor it wast lot time you need better neveheless entir bad well i have use whatsapp around year now first year face issu last month face issu send galleri edit video  i am use samsung devic found workaround use send video sound  edit video galleri sendit wa sound disappear sent pleas fix bug fix updat someth  good text app  in much love recent updat notic archiv folder move nice one top happi cos messag come chat archiv reappear list set stop happen archiv folder reappear top chat screen would suggest work matter archiv folder stay top below asid rate app star the expo complet mislead last littl bit convers media impo  whatsapp still take file backup seem absolut actual impo anymor chang devic  like way restor delet convers stick around week so better yet forev delet folder good app send receiv chat includ photo document although select multipl photo batch end send differ order voic call video call featur compar platform i have tri cours call qualiti limit internet connect qualiti speed stabil this app one high ratwd app use across tge globe doubt app great use but today updat app discov whenev tri click play listen audio phone goe blank end audio coe right back xoukd wrong pleas kind fix thank  voic record work sudden stop receiv voic note ca not send them done troubleshoot success inform onlin either voic record function oppo phone reduc use app mani convers primarili voic note updat resolv it great app one one convers audio video option work well too although hope near futur add unsend option like instagram remov delet thing leav behind messag box even delet kind let person know delet someth inconveni mani scenario there chanc it like mani version back edit video result match what is set editor everyth work fine cut end it moment touch sta marker even hope see whatev mark decid repo straight away recent updat still error version version like nobodi care love voic messag featur emoji whatsapp provid us besid that set wallpap choos dark theme mode by go set even control see status updat profil etc one issu face qualiti video call poor sometim ca not hear time ca not see too voic call still better though\n"
          ]
        }
      ],
      "source": [
        "c= c.lower() \n",
        "c =  re.sub('[^a-zA-z0-9\\s]','',c) \n",
        "c= c.replace('rt','')\n",
        "print(c)"
      ]
    },
    {
      "cell_type": "code",
      "execution_count": null,
      "metadata": {
        "colab": {
          "base_uri": "https://localhost:8080/"
        },
        "id": "vG0MuW1Xb4Ek",
        "outputId": "02f858a2-1c32-4c03-d8ee-f6d0c9445b11"
      },
      "outputs": [
        {
          "output_type": "stream",
          "name": "stdout",
          "text": [
            "(1, 13709)\n"
          ]
        },
        {
          "output_type": "execute_result",
          "data": {
            "text/plain": [
              "array([[1.00000000e+00, 7.05393367e-31]])"
            ]
          },
          "metadata": {},
          "execution_count": 30
        }
      ],
      "source": [
        "from keras.preprocessing.text import Tokenizer\n",
        "from keras.preprocessing.sequence import pad_sequences\n",
        "import numpy as np\n",
        "\n",
        "tokenizer = Tokenizer()\n",
        "tokenizer.fit_on_texts(c)\n",
        "\n",
        "sequences = tokenizer.texts_to_sequences([c])\n",
        "data = pad_sequences(sequences,maxlen = 13709)\n",
        "print(data.shape)\n",
        "result=np.array(model.predict_proba(data))\n",
        "result"
      ]
    },
    {
      "cell_type": "code",
      "execution_count": null,
      "metadata": {
        "id": "TP6nCamqrmct"
      },
      "outputs": [],
      "source": [
        "import pickle\n",
        "pickle.dump(model, open('model.pkl', 'wb'))"
      ]
    },
    {
      "cell_type": "code",
      "execution_count": null,
      "metadata": {
        "colab": {
          "base_uri": "https://localhost:8080/",
          "height": 307
        },
        "id": "nO4FXSusuflt",
        "outputId": "b058b035-9ea3-43cd-962a-4acf59f4fa9f"
      },
      "outputs": [
        {
          "output_type": "stream",
          "name": "stdout",
          "text": [
            "2.8.0\n",
            " * Serving Flask app \"__main__\" (lazy loading)\n",
            " * Environment: production\n",
            "\u001b[31m   WARNING: This is a development server. Do not use it in a production deployment.\u001b[0m\n",
            "\u001b[2m   Use a production WSGI server instead.\u001b[0m\n",
            " * Debug mode: on\n"
          ]
        },
        {
          "output_type": "stream",
          "name": "stderr",
          "text": [
            " * Running on http://127.0.0.1:5000/ (Press CTRL+C to quit)\n",
            " * Restarting with stat\n"
          ]
        },
        {
          "output_type": "error",
          "ename": "SystemExit",
          "evalue": "ignored",
          "traceback": [
            "An exception has occurred, use %tb to see the full traceback.\n",
            "\u001b[0;31mSystemExit\u001b[0m\u001b[0;31m:\u001b[0m 1\n"
          ]
        },
        {
          "output_type": "stream",
          "name": "stderr",
          "text": [
            "/usr/local/lib/python3.7/dist-packages/IPython/core/interactiveshell.py:2890: UserWarning: To exit: use 'exit', 'quit', or Ctrl-D.\n",
            "  warn(\"To exit: use 'exit', 'quit', or Ctrl-D.\", stacklevel=1)\n"
          ]
        }
      ],
      "source": [
        "from flask import Flask,render_template,url_for,request\n",
        "from google_play_scraper import app as gs\n",
        "import nltk\n",
        "import re\n",
        "import string\n",
        "\n",
        "import tensorflow as tf\n",
        "print(tf.__version__)\n",
        "import keras\n",
        "import nltk\n",
        "from nltk.corpus import stopwords\n",
        "from nltk.stem import SnowballStemmer\n",
        "from keras.preprocessing.text import Tokenizer\n",
        "from keras.preprocessing.sequence import pad_sequences\n",
        "from keras.models import Sequential\n",
        "from keras.layers import Dense, Flatten, LSTM, Conv1D, MaxPooling1D, Dropout, Activation,Bidirectional,TimeDistributed\n",
        "from keras.layers.embeddings import Embedding\n",
        "\n",
        "\n",
        "from sklearn.feature_extraction.text import CountVectorizer\n",
        "from keras.preprocessing.text import Tokenizer\n",
        "from keras.preprocessing.sequence import pad_sequences\n",
        "from keras.models import Sequential\n",
        "from keras.layers import Dense, Embedding, LSTM, SpatialDropout1D\n",
        "from sklearn.model_selection import train_test_split\n",
        "from keras.utils.np_utils import to_categorical\n",
        "from sklearn.utils import resample\n",
        "from sklearn.utils import shuffle\n",
        "from sklearn.metrics import confusion_matrix,classification_report\n",
        "\n",
        "import re\n",
        "import numpy as np\n",
        "\n",
        "\n",
        "\n",
        "from keras.models import load_model\n",
        "\n",
        "\n",
        "app = Flask(__name__)\n",
        "\n",
        "def preprocess(text):  \n",
        "    text = text.translate(string.punctuation)\n",
        "    text = text.lower().split()\n",
        "    stops = set(stopwords.words(\"english\"))\n",
        "    text = [w for w in text if not w in stops and len(w) >= 3]\n",
        "    text = \" \".join(text)\n",
        "    text = re.sub(r\"[^A-Za-z0-9^,!.\\/'+-=]\", \" \", text)\n",
        "    text = re.sub(r\"what's\", \"what is \", text)\n",
        "    text = re.sub(r\"\\'s\", \" \", text)\n",
        "    text = re.sub(r\"\\'ve\", \" have \", text)\n",
        "    text = re.sub(r\"n't\", \" not \", text)\n",
        "    text = re.sub(r\"i'm\", \"i am \", text)\n",
        "    text = re.sub(r\"\\'re\", \" are \", text)\n",
        "    text = re.sub(r\"\\'d\", \" would \", text)\n",
        "    text = re.sub(r\"\\'ll\", \" will \", text)\n",
        "    text = re.sub(r\",\", \" \", text)\n",
        "    text = re.sub(r\"\\.\", \" \", text)\n",
        "    text = re.sub(r\"!\", \" ! \", text)\n",
        "    text = re.sub(r\"\\/\", \" \", text)\n",
        "    text = re.sub(r\"\\^\", \" ^ \", text)\n",
        "    text = re.sub(r\"\\+\", \" + \", text)\n",
        "    text = re.sub(r\"\\-\", \" - \", text)\n",
        "    text = re.sub(r\"\\=\", \" = \", text)\n",
        "    text = re.sub(r\"'\", \" \", text)\n",
        "    text = re.sub(r\"(\\d+)(k)\", r\"\\g<1>000\", text)\n",
        "    text = re.sub(r\":\", \" : \", text)\n",
        "    text = re.sub(r\" e g \", \" eg \", text)\n",
        "    text = re.sub(r\" b g \", \" bg \", text)\n",
        "    text = re.sub(r\" u s \", \" american \", text)\n",
        "    text = re.sub(r\"\\0s\", \"0\", text)\n",
        "    text = re.sub(r\" 9 11 \", \"911\", text)\n",
        "    text = re.sub(r\"e - mail\", \"email\", text)\n",
        "    text = re.sub(r\"j k\", \"jk\", text)\n",
        "    text = re.sub(r\"\\s{2,}\", \" \", text)\n",
        "    text = text.split()\n",
        "    stemmer = SnowballStemmer('english')\n",
        "    stemmed_words = [stemmer.stem(word) for word in text]\n",
        "    text = \" \".join(stemmed_words)\n",
        "\n",
        "    return text\n",
        "\n",
        "\n",
        "@app.route('/')\n",
        "def home():\n",
        "\treturn render_template('/content/drive/MyDrive/Major_Project/home.html')\n",
        "\n",
        "@app.route('/predict',methods=['POST'])\n",
        "def predict():\n",
        "    score=0\n",
        "\n",
        "    \n",
        "    \n",
        "    if request.method == 'POST':\n",
        "        url = request.form['url']\n",
        "        file = open(\"cc.txt\", \"w\",encoding='utf-8')\n",
        "        link=url\n",
        "        findId=link.find('id=')\n",
        "\n",
        "        url=link[findId+3:]\n",
        "        file.write(str(gs(\n",
        "            url,\n",
        "            lang='en', # defaults to 'en'\n",
        "            country='us' # defaults to 'us'\n",
        "        )))\n",
        "        file.close()\n",
        "\n",
        "        myfile=[]\n",
        "        with open(\"cc.txt\",encoding='utf8') as mydata:\n",
        "            for data in mydata:\n",
        "                myfile.append(data)\n",
        "\n",
        "        start=myfile[0].find('comments')\n",
        "        end=myfile[0].find('editorsChoice')\n",
        "        c=data[start:end]\n",
        "\n",
        "        c= c.lower() \n",
        "        c =  re.sub('[^a-zA-z0-9\\s]','',c) \n",
        "        c= c.replace('rt','')\n",
        "        nltk.download('stopwords')\n",
        "        c = preprocess(c)\n",
        "        tokenizer = Tokenizer()\n",
        "        tokenizer.fit_on_texts(c)\n",
        "        score=0\n",
        "        sequences = tokenizer.texts_to_sequences(c)\n",
        "        data = pad_sequences(sequences, maxlen=29)\n",
        "        new_model = tf.keras.models.load_model('/content/model.pkl')\n",
        "        result=np.argmax(new_model.predict(data), axis=-1)\n",
        "        score=result.sum()/len(result)\n",
        "        print(score)\n",
        "        # result=new_model.predict_classes(data)\n",
        "        # print(len(result))\n",
        "       \n",
        "    \n",
        "    return render_template('/content/drive/MyDrive/Major_Project/result.html',score = score)\n",
        "\n",
        "\n",
        "\n",
        "if __name__ == '__main__':\n",
        "    app.debug = True\n",
        "    app.run()"
      ]
    }
  ],
  "metadata": {
    "colab": {
      "name": "Copy of Untitled4.ipynb",
      "provenance": [],
      "collapsed_sections": [],
      "include_colab_link": true
    },
    "kernelspec": {
      "display_name": "Python 3",
      "name": "python3"
    },
    "language_info": {
      "name": "python"
    }
  },
  "nbformat": 4,
  "nbformat_minor": 0
}